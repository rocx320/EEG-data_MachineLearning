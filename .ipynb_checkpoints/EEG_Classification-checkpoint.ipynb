{
 "cells": [
  {
   "cell_type": "code",
   "execution_count": 2,
   "id": "fcbcfcc4",
   "metadata": {},
   "outputs": [],
   "source": [
    "from glob import glob\n",
    "import os\n",
    "import mne\n",
    "import numpy as np\n",
    "import pandas as pd\n",
    "import matplotlib.pyplot as plt"
   ]
  },
  {
   "cell_type": "code",
   "execution_count": 5,
   "id": "2bf701fb",
   "metadata": {},
   "outputs": [
    {
     "name": "stdout",
     "output_type": "stream",
     "text": [
      "28\n"
     ]
    }
   ],
   "source": [
    "all_file_path = glob('dataset/*.edf')\n",
    "\n",
    "print(len(all_file_path))"
   ]
  },
  {
   "cell_type": "code",
   "execution_count": 8,
   "id": "97930a91",
   "metadata": {},
   "outputs": [
    {
     "name": "stdout",
     "output_type": "stream",
     "text": [
      "14 14\n"
     ]
    }
   ],
   "source": [
    "healthy_file_path = [i for i in all_file_path if 'h' in i.split('\\\\')[1]]\n",
    "patient_file_path = [i for i in all_file_path if 's' in i.split('\\\\')[1]]\n",
    "\n",
    "print(len(healthy_file_path),len(patient_file_path))"
   ]
  },
  {
   "cell_type": "code",
   "execution_count": 15,
   "id": "20b9fc17",
   "metadata": {},
   "outputs": [],
   "source": [
    "def read_data(file_path):\n",
    "    data = mne.io.read_raw_edf(file_path,preload=True)\n",
    "    data.set_eeg_reference()\n",
    "    data.filter(l_freq=0.5,h_freq=45)\n",
    "    epochs = mne.make_fixed_length_epochs(data,duration=5,overlap=1)\n",
    "    \n",
    "    array = epochs.get_data()\n",
    "    \n",
    "    return array"
   ]
  },
  {
   "cell_type": "code",
   "execution_count": 16,
   "id": "a60c6073",
   "metadata": {},
   "outputs": [
    {
     "name": "stdout",
     "output_type": "stream",
     "text": [
      "Extracting EDF parameters from C:\\Users\\Piyush\\Machine Learning CAC2\\dataset\\h01.edf...\n",
      "EDF file detected\n",
      "Setting channel info structure...\n",
      "Creating raw.info structure...\n",
      "Reading 0 ... 231249  =      0.000 ...   924.996 secs...\n",
      "EEG channel type selected for re-referencing\n",
      "Applying average reference.\n",
      "Applying a custom ('EEG',) reference.\n",
      "Filtering raw data in 1 contiguous segment\n",
      "Setting up band-pass filter from 0.5 - 45 Hz\n",
      "\n",
      "FIR filter parameters\n",
      "---------------------\n",
      "Designing a one-pass, zero-phase, non-causal bandpass filter:\n",
      "- Windowed time-domain design (firwin) method\n",
      "- Hamming window with 0.0194 passband ripple and 53 dB stopband attenuation\n",
      "- Lower passband edge: 0.50\n",
      "- Lower transition bandwidth: 0.50 Hz (-6 dB cutoff frequency: 0.25 Hz)\n",
      "- Upper passband edge: 45.00 Hz\n",
      "- Upper transition bandwidth: 11.25 Hz (-6 dB cutoff frequency: 50.62 Hz)\n",
      "- Filter length: 1651 samples (6.604 s)\n",
      "\n",
      "Not setting metadata\n",
      "231 matching events found\n",
      "No baseline correction applied\n",
      "0 projection items activated\n",
      "Using data from preloaded Raw for 231 events and 1250 original time points ...\n",
      "0 bad epochs dropped\n"
     ]
    },
    {
     "name": "stderr",
     "output_type": "stream",
     "text": [
      "[Parallel(n_jobs=1)]: Using backend SequentialBackend with 1 concurrent workers.\n",
      "[Parallel(n_jobs=1)]: Done   1 out of   1 | elapsed:    0.0s remaining:    0.0s\n",
      "[Parallel(n_jobs=1)]: Done   2 out of   2 | elapsed:    0.0s remaining:    0.0s\n",
      "[Parallel(n_jobs=1)]: Done   3 out of   3 | elapsed:    0.0s remaining:    0.0s\n",
      "[Parallel(n_jobs=1)]: Done   4 out of   4 | elapsed:    0.0s remaining:    0.0s\n",
      "[Parallel(n_jobs=1)]: Done  19 out of  19 | elapsed:    0.0s finished\n"
     ]
    }
   ],
   "source": [
    "sample_data = read_data(healthy_file_path[0])"
   ]
  },
  {
   "cell_type": "code",
   "execution_count": 17,
   "id": "3b2f4906",
   "metadata": {},
   "outputs": [
    {
     "data": {
      "text/plain": [
       "(231, 19, 1250)"
      ]
     },
     "execution_count": 17,
     "metadata": {},
     "output_type": "execute_result"
    }
   ],
   "source": [
    "sample_data.shape #no of epochs, channels, lenght of signal"
   ]
  },
  {
   "cell_type": "code",
   "execution_count": 19,
   "id": "fa676c58",
   "metadata": {},
   "outputs": [],
   "source": [
    "%%capture\n",
    "control_epochs_array = [read_data(i) for i in healthy_file_path ]\n",
    "patient_epochs_array = [read_data(i) for i in patient_file_path ]"
   ]
  },
  {
   "cell_type": "code",
   "execution_count": 22,
   "id": "752ca384",
   "metadata": {},
   "outputs": [
    {
     "data": {
      "text/plain": [
       "((231, 19, 1250), (227, 19, 1250))"
      ]
     },
     "execution_count": 22,
     "metadata": {},
     "output_type": "execute_result"
    }
   ],
   "source": [
    "control_epochs_array[0].shape , control_epochs_array[1].shape"
   ]
  },
  {
   "cell_type": "code",
   "execution_count": 27,
   "id": "d95cf935",
   "metadata": {},
   "outputs": [
    {
     "data": {
      "text/plain": [
       "(14, 14)"
      ]
     },
     "execution_count": 27,
     "metadata": {},
     "output_type": "execute_result"
    }
   ],
   "source": [
    "control_epoch_labels = [len(i)*[0] for i in control_epochs_array]\n",
    "patient_epoch_labels = [len(i)*[1] for i in patient_epochs_array]\n",
    "\n",
    "len(control_epoch_labels),len(patient_epoch_labels)"
   ]
  },
  {
   "cell_type": "code",
   "execution_count": 28,
   "id": "eb38efc3",
   "metadata": {},
   "outputs": [],
   "source": [
    "data_list = control_epochs_array+patient_epochs_array\n",
    "label_list = control_epoch_labels+patient_epoch_labels"
   ]
  },
  {
   "cell_type": "code",
   "execution_count": 29,
   "id": "68af2cb8",
   "metadata": {},
   "outputs": [
    {
     "data": {
      "text/plain": [
       "28"
      ]
     },
     "execution_count": 29,
     "metadata": {},
     "output_type": "execute_result"
    }
   ],
   "source": [
    "group_list = [[i]*len(j) for i,j in enumerate(data_list)]\n",
    "\n",
    "len(group_list)"
   ]
  },
  {
   "cell_type": "code",
   "execution_count": 30,
   "id": "ab4491d8",
   "metadata": {},
   "outputs": [
    {
     "name": "stdout",
     "output_type": "stream",
     "text": [
      "(7201, 19, 1250) (7201,) (7201,)\n"
     ]
    }
   ],
   "source": [
    "data_array = np.vstack(data_list)\n",
    "label_array = np.hstack(label_list)\n",
    "group_array = np.hstack(group_list)\n",
    "\n",
    "print(data_array.shape , label_array.shape , group_array.shape)\n"
   ]
  },
  {
   "cell_type": "code",
   "execution_count": 32,
   "id": "3515d92f",
   "metadata": {},
   "outputs": [],
   "source": [
    "from scipy import stats\n",
    "\n",
    "def mean(x):\n",
    "    return np.mean(data,axis=-1)\n",
    "\n",
    "def std(data):\n",
    "    return np.std(data,axis=-1)\n",
    "\n",
    "def ptp(data):\n",
    "    return np.ptp(data,axis=-1)\n",
    "\n",
    "def var(data):\n",
    "        return np.var(data,axis=-1)\n",
    "\n",
    "def minim(data):\n",
    "      return np.min(data,axis=-1)\n",
    "\n",
    "\n",
    "def maxim(data):\n",
    "      return np.max(data,axis=-1)\n",
    "\n",
    "def argminim(data):\n",
    "      return np.argmin(data,axis=-1)\n",
    "\n",
    "\n",
    "def argmaxim(data):\n",
    "      return np.argmax(data,axis=-1)\n",
    "\n",
    "def mean_square(data):\n",
    "      return np.mean(data**2,axis=-1)\n",
    "\n",
    "def rms(data): #root mean square\n",
    "      return  np.sqrt(np.mean(data**2,axis=-1))  \n",
    "\n",
    "def abs_diffs_signal(data):\n",
    "    return np.sum(np.abs(np.diff(data,axis=-1)),axis=-1)\n",
    "\n",
    "\n",
    "def skewness(data):\n",
    "    return stats.skew(data,axis=-1)\n",
    "\n",
    "def kurtosis(data):\n",
    "    return stats.kurtosis(data,axis=-1)\n",
    "\n",
    "def concatenate_features(data):\n",
    "    return np.concatenate((mean(data),std(data),ptp(data),var(data),minim(data),maxim(data),argminim(data),argmaxim(data),\n",
    "                          mean_square(data),rms(data),abs_diffs_signal(data),\n",
    "                          skewness(data),kurtosis(data)),axis=-1)\n",
    "    "
   ]
  },
  {
   "cell_type": "code",
   "execution_count": 34,
   "id": "37974275",
   "metadata": {},
   "outputs": [],
   "source": [
    "features = []\n",
    "for d in data_array:\n",
    "    features.append(concatenate_features(d))"
   ]
  },
  {
   "cell_type": "code",
   "execution_count": 35,
   "id": "bd3b078c",
   "metadata": {},
   "outputs": [
    {
     "data": {
      "text/plain": [
       "(7201, 247)"
      ]
     },
     "execution_count": 35,
     "metadata": {},
     "output_type": "execute_result"
    }
   ],
   "source": [
    "features_array = np.array(features)\n",
    "features_array.shape"
   ]
  },
  {
   "cell_type": "code",
   "execution_count": null,
   "id": "40798e9c",
   "metadata": {},
   "outputs": [],
   "source": []
  },
  {
   "cell_type": "code",
   "execution_count": 33,
   "id": "89bc0647",
   "metadata": {},
   "outputs": [
    {
     "name": "stderr",
     "output_type": "stream",
     "text": [
      "C:\\Users\\Piyush\\AppData\\Local\\Temp\\ipykernel_30176\\3783067424.py:3: TqdmDeprecationWarning: This function will be removed in tqdm==5.0.0\n",
      "Please use `tqdm.notebook.tqdm` instead of `tqdm.tqdm_notebook`\n",
      "  for data in tqdm_notebook(data_array):\n"
     ]
    },
    {
     "data": {
      "application/vnd.jupyter.widget-view+json": {
       "model_id": "8bb498992023482db749ee7be76aa3e3",
       "version_major": 2,
       "version_minor": 0
      },
      "text/plain": [
       "  0%|          | 0/7201 [00:00<?, ?it/s]"
      ]
     },
     "metadata": {},
     "output_type": "display_data"
    },
    {
     "data": {
      "text/plain": [
       "(7201, 247)"
      ]
     },
     "execution_count": 33,
     "metadata": {},
     "output_type": "execute_result"
    }
   ],
   "source": [
    "from tqdm import tqdm_notebook\n",
    "features=[]\n",
    "for data in tqdm_notebook(data_array):\n",
    "    features.append(concatenate_features(data))\n",
    "features=np.array(features)\n",
    "features.shape"
   ]
  },
  {
   "cell_type": "code",
   "execution_count": null,
   "id": "36797d74",
   "metadata": {},
   "outputs": [],
   "source": []
  }
 ],
 "metadata": {
  "kernelspec": {
   "display_name": "Python 3 (ipykernel)",
   "language": "python",
   "name": "python3"
  },
  "language_info": {
   "codemirror_mode": {
    "name": "ipython",
    "version": 3
   },
   "file_extension": ".py",
   "mimetype": "text/x-python",
   "name": "python",
   "nbconvert_exporter": "python",
   "pygments_lexer": "ipython3",
   "version": "3.10.9"
  }
 },
 "nbformat": 4,
 "nbformat_minor": 5
}
